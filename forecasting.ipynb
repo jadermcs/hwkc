{
 "cells": [
  {
   "cell_type": "markdown",
   "metadata": {},
   "source": [
    "# Loading Libraries"
   ]
  },
  {
   "cell_type": "code",
   "execution_count": 57,
   "metadata": {},
   "outputs": [],
   "source": [
    "import numpy as np\n",
    "import pandas as pd\n",
    "\n",
    "import time\n",
    "import sys\n",
    "import gc\n",
    "import pickle\n",
    "\n",
    "pd.set_option('display.float_format', lambda x: '%.2f' % x)"
   ]
  },
  {
   "cell_type": "code",
   "execution_count": 58,
   "metadata": {},
   "outputs": [],
   "source": [
    "from itertools import product\n",
    "from sklearn.preprocessing import LabelEncoder\n",
    "from sklearn.model_selection import KFold\n",
    "from sklearn.linear_model import Lasso\n",
    "from lightgbm import LGBMRegressor\n",
    "from xgboost import XGBRegressor\n",
    "\n",
    "from IPython import display\n",
    "import seaborn as sns\n",
    "import matplotlib.pyplot as plt\n",
    "%matplotlib inline"
   ]
  },
  {
   "cell_type": "markdown",
   "metadata": {},
   "source": [
    "# Loading Data"
   ]
  },
  {
   "cell_type": "code",
   "execution_count": 59,
   "metadata": {},
   "outputs": [],
   "source": [
    "items = pd.read_csv('data/items.csv', dtype={'item_name': 'str', 'item_id': 'int32', 'item_category_id': 'int32'})\n",
    "shops = pd.read_csv('data/shops.csv', dtype={'shop_name': 'str', 'shop_id': 'int32'})\n",
    "cats = pd.read_csv('data/item_categories.csv', dtype={'item_category_name': 'str', 'item_category_id': 'int32'})\n",
    "train = pd.read_csv('data/sales_train.csv.gz',\n",
    "                    parse_dates=['date'],  infer_datetime_format=True, dayfirst=True, \n",
    "                    dtype={'date_block_num': 'int32', 'shop_id': 'int32', \n",
    "                           'item_id': 'int32', 'item_price': 'float32', 'item_cnt_day': 'int32'})\n",
    "test  = pd.read_csv('data/test.csv.gz', dtype={'ID': 'int32', 'shop_id': 'int32', 'item_id': 'int32'})"
   ]
  },
  {
   "cell_type": "code",
   "execution_count": 60,
   "metadata": {},
   "outputs": [
    {
     "name": "stdout",
     "output_type": "stream",
     "text": [
      "(2935849, 6)\n",
      "(214200, 3)\n"
     ]
    }
   ],
   "source": [
    "print(train.shape)\n",
    "print(test.shape)"
   ]
  },
  {
   "cell_type": "markdown",
   "metadata": {},
   "source": [
    "# Exploring Data"
   ]
  },
  {
   "cell_type": "code",
   "execution_count": 61,
   "metadata": {
    "scrolled": true
   },
   "outputs": [
    {
     "data": {
      "text/html": [
       "<div>\n",
       "<style scoped>\n",
       "    .dataframe tbody tr th:only-of-type {\n",
       "        vertical-align: middle;\n",
       "    }\n",
       "\n",
       "    .dataframe tbody tr th {\n",
       "        vertical-align: top;\n",
       "    }\n",
       "\n",
       "    .dataframe thead th {\n",
       "        text-align: right;\n",
       "    }\n",
       "</style>\n",
       "<table border=\"1\" class=\"dataframe\">\n",
       "  <thead>\n",
       "    <tr style=\"text-align: right;\">\n",
       "      <th></th>\n",
       "      <th>item_name</th>\n",
       "      <th>item_id</th>\n",
       "      <th>item_category_id</th>\n",
       "    </tr>\n",
       "  </thead>\n",
       "  <tbody>\n",
       "    <tr>\n",
       "      <th>0</th>\n",
       "      <td>! ВО ВЛАСТИ НАВАЖДЕНИЯ (ПЛАСТ.)         D</td>\n",
       "      <td>0</td>\n",
       "      <td>40</td>\n",
       "    </tr>\n",
       "    <tr>\n",
       "      <th>1</th>\n",
       "      <td>!ABBYY FineReader 12 Professional Edition Full...</td>\n",
       "      <td>1</td>\n",
       "      <td>76</td>\n",
       "    </tr>\n",
       "    <tr>\n",
       "      <th>2</th>\n",
       "      <td>***В ЛУЧАХ СЛАВЫ   (UNV)                    D</td>\n",
       "      <td>2</td>\n",
       "      <td>40</td>\n",
       "    </tr>\n",
       "    <tr>\n",
       "      <th>3</th>\n",
       "      <td>***ГОЛУБАЯ ВОЛНА  (Univ)                      D</td>\n",
       "      <td>3</td>\n",
       "      <td>40</td>\n",
       "    </tr>\n",
       "    <tr>\n",
       "      <th>4</th>\n",
       "      <td>***КОРОБКА (СТЕКЛО)                       D</td>\n",
       "      <td>4</td>\n",
       "      <td>40</td>\n",
       "    </tr>\n",
       "  </tbody>\n",
       "</table>\n",
       "</div>"
      ],
      "text/plain": [
       "                                           item_name  item_id  \\\n",
       "0          ! ВО ВЛАСТИ НАВАЖДЕНИЯ (ПЛАСТ.)         D        0   \n",
       "1  !ABBYY FineReader 12 Professional Edition Full...        1   \n",
       "2      ***В ЛУЧАХ СЛАВЫ   (UNV)                    D        2   \n",
       "3    ***ГОЛУБАЯ ВОЛНА  (Univ)                      D        3   \n",
       "4        ***КОРОБКА (СТЕКЛО)                       D        4   \n",
       "\n",
       "   item_category_id  \n",
       "0                40  \n",
       "1                76  \n",
       "2                40  \n",
       "3                40  \n",
       "4                40  "
      ]
     },
     "metadata": {},
     "output_type": "display_data"
    },
    {
     "data": {
      "text/html": [
       "<div>\n",
       "<style scoped>\n",
       "    .dataframe tbody tr th:only-of-type {\n",
       "        vertical-align: middle;\n",
       "    }\n",
       "\n",
       "    .dataframe tbody tr th {\n",
       "        vertical-align: top;\n",
       "    }\n",
       "\n",
       "    .dataframe thead th {\n",
       "        text-align: right;\n",
       "    }\n",
       "</style>\n",
       "<table border=\"1\" class=\"dataframe\">\n",
       "  <thead>\n",
       "    <tr style=\"text-align: right;\">\n",
       "      <th></th>\n",
       "      <th>shop_name</th>\n",
       "      <th>shop_id</th>\n",
       "    </tr>\n",
       "  </thead>\n",
       "  <tbody>\n",
       "    <tr>\n",
       "      <th>0</th>\n",
       "      <td>!Якутск Орджоникидзе, 56 фран</td>\n",
       "      <td>0</td>\n",
       "    </tr>\n",
       "    <tr>\n",
       "      <th>1</th>\n",
       "      <td>!Якутск ТЦ \"Центральный\" фран</td>\n",
       "      <td>1</td>\n",
       "    </tr>\n",
       "    <tr>\n",
       "      <th>2</th>\n",
       "      <td>Адыгея ТЦ \"Мега\"</td>\n",
       "      <td>2</td>\n",
       "    </tr>\n",
       "    <tr>\n",
       "      <th>3</th>\n",
       "      <td>Балашиха ТРК \"Октябрь-Киномир\"</td>\n",
       "      <td>3</td>\n",
       "    </tr>\n",
       "    <tr>\n",
       "      <th>4</th>\n",
       "      <td>Волжский ТЦ \"Волга Молл\"</td>\n",
       "      <td>4</td>\n",
       "    </tr>\n",
       "  </tbody>\n",
       "</table>\n",
       "</div>"
      ],
      "text/plain": [
       "                        shop_name  shop_id\n",
       "0   !Якутск Орджоникидзе, 56 фран        0\n",
       "1   !Якутск ТЦ \"Центральный\" фран        1\n",
       "2                Адыгея ТЦ \"Мега\"        2\n",
       "3  Балашиха ТРК \"Октябрь-Киномир\"        3\n",
       "4        Волжский ТЦ \"Волга Молл\"        4"
      ]
     },
     "metadata": {},
     "output_type": "display_data"
    },
    {
     "data": {
      "text/html": [
       "<div>\n",
       "<style scoped>\n",
       "    .dataframe tbody tr th:only-of-type {\n",
       "        vertical-align: middle;\n",
       "    }\n",
       "\n",
       "    .dataframe tbody tr th {\n",
       "        vertical-align: top;\n",
       "    }\n",
       "\n",
       "    .dataframe thead th {\n",
       "        text-align: right;\n",
       "    }\n",
       "</style>\n",
       "<table border=\"1\" class=\"dataframe\">\n",
       "  <thead>\n",
       "    <tr style=\"text-align: right;\">\n",
       "      <th></th>\n",
       "      <th>item_category_name</th>\n",
       "      <th>item_category_id</th>\n",
       "    </tr>\n",
       "  </thead>\n",
       "  <tbody>\n",
       "    <tr>\n",
       "      <th>0</th>\n",
       "      <td>PC - Гарнитуры/Наушники</td>\n",
       "      <td>0</td>\n",
       "    </tr>\n",
       "    <tr>\n",
       "      <th>1</th>\n",
       "      <td>Аксессуары - PS2</td>\n",
       "      <td>1</td>\n",
       "    </tr>\n",
       "    <tr>\n",
       "      <th>2</th>\n",
       "      <td>Аксессуары - PS3</td>\n",
       "      <td>2</td>\n",
       "    </tr>\n",
       "    <tr>\n",
       "      <th>3</th>\n",
       "      <td>Аксессуары - PS4</td>\n",
       "      <td>3</td>\n",
       "    </tr>\n",
       "    <tr>\n",
       "      <th>4</th>\n",
       "      <td>Аксессуары - PSP</td>\n",
       "      <td>4</td>\n",
       "    </tr>\n",
       "  </tbody>\n",
       "</table>\n",
       "</div>"
      ],
      "text/plain": [
       "        item_category_name  item_category_id\n",
       "0  PC - Гарнитуры/Наушники                 0\n",
       "1         Аксессуары - PS2                 1\n",
       "2         Аксессуары - PS3                 2\n",
       "3         Аксессуары - PS4                 3\n",
       "4         Аксессуары - PSP                 4"
      ]
     },
     "metadata": {},
     "output_type": "display_data"
    },
    {
     "data": {
      "text/html": [
       "<div>\n",
       "<style scoped>\n",
       "    .dataframe tbody tr th:only-of-type {\n",
       "        vertical-align: middle;\n",
       "    }\n",
       "\n",
       "    .dataframe tbody tr th {\n",
       "        vertical-align: top;\n",
       "    }\n",
       "\n",
       "    .dataframe thead th {\n",
       "        text-align: right;\n",
       "    }\n",
       "</style>\n",
       "<table border=\"1\" class=\"dataframe\">\n",
       "  <thead>\n",
       "    <tr style=\"text-align: right;\">\n",
       "      <th></th>\n",
       "      <th>date</th>\n",
       "      <th>date_block_num</th>\n",
       "      <th>shop_id</th>\n",
       "      <th>item_id</th>\n",
       "      <th>item_price</th>\n",
       "      <th>item_cnt_day</th>\n",
       "    </tr>\n",
       "  </thead>\n",
       "  <tbody>\n",
       "    <tr>\n",
       "      <th>0</th>\n",
       "      <td>2013-01-02</td>\n",
       "      <td>0</td>\n",
       "      <td>59</td>\n",
       "      <td>22154</td>\n",
       "      <td>999.00</td>\n",
       "      <td>1</td>\n",
       "    </tr>\n",
       "    <tr>\n",
       "      <th>1</th>\n",
       "      <td>2013-01-03</td>\n",
       "      <td>0</td>\n",
       "      <td>25</td>\n",
       "      <td>2552</td>\n",
       "      <td>899.00</td>\n",
       "      <td>1</td>\n",
       "    </tr>\n",
       "    <tr>\n",
       "      <th>2</th>\n",
       "      <td>2013-01-05</td>\n",
       "      <td>0</td>\n",
       "      <td>25</td>\n",
       "      <td>2552</td>\n",
       "      <td>899.00</td>\n",
       "      <td>-1</td>\n",
       "    </tr>\n",
       "    <tr>\n",
       "      <th>3</th>\n",
       "      <td>2013-01-06</td>\n",
       "      <td>0</td>\n",
       "      <td>25</td>\n",
       "      <td>2554</td>\n",
       "      <td>1709.05</td>\n",
       "      <td>1</td>\n",
       "    </tr>\n",
       "    <tr>\n",
       "      <th>4</th>\n",
       "      <td>2013-01-15</td>\n",
       "      <td>0</td>\n",
       "      <td>25</td>\n",
       "      <td>2555</td>\n",
       "      <td>1099.00</td>\n",
       "      <td>1</td>\n",
       "    </tr>\n",
       "  </tbody>\n",
       "</table>\n",
       "</div>"
      ],
      "text/plain": [
       "        date  date_block_num  shop_id  item_id  item_price  item_cnt_day\n",
       "0 2013-01-02               0       59    22154      999.00             1\n",
       "1 2013-01-03               0       25     2552      899.00             1\n",
       "2 2013-01-05               0       25     2552      899.00            -1\n",
       "3 2013-01-06               0       25     2554     1709.05             1\n",
       "4 2013-01-15               0       25     2555     1099.00             1"
      ]
     },
     "metadata": {},
     "output_type": "display_data"
    },
    {
     "data": {
      "text/html": [
       "<div>\n",
       "<style scoped>\n",
       "    .dataframe tbody tr th:only-of-type {\n",
       "        vertical-align: middle;\n",
       "    }\n",
       "\n",
       "    .dataframe tbody tr th {\n",
       "        vertical-align: top;\n",
       "    }\n",
       "\n",
       "    .dataframe thead th {\n",
       "        text-align: right;\n",
       "    }\n",
       "</style>\n",
       "<table border=\"1\" class=\"dataframe\">\n",
       "  <thead>\n",
       "    <tr style=\"text-align: right;\">\n",
       "      <th></th>\n",
       "      <th>ID</th>\n",
       "      <th>shop_id</th>\n",
       "      <th>item_id</th>\n",
       "    </tr>\n",
       "  </thead>\n",
       "  <tbody>\n",
       "    <tr>\n",
       "      <th>0</th>\n",
       "      <td>0</td>\n",
       "      <td>5</td>\n",
       "      <td>5037</td>\n",
       "    </tr>\n",
       "    <tr>\n",
       "      <th>1</th>\n",
       "      <td>1</td>\n",
       "      <td>5</td>\n",
       "      <td>5320</td>\n",
       "    </tr>\n",
       "    <tr>\n",
       "      <th>2</th>\n",
       "      <td>2</td>\n",
       "      <td>5</td>\n",
       "      <td>5233</td>\n",
       "    </tr>\n",
       "    <tr>\n",
       "      <th>3</th>\n",
       "      <td>3</td>\n",
       "      <td>5</td>\n",
       "      <td>5232</td>\n",
       "    </tr>\n",
       "    <tr>\n",
       "      <th>4</th>\n",
       "      <td>4</td>\n",
       "      <td>5</td>\n",
       "      <td>5268</td>\n",
       "    </tr>\n",
       "  </tbody>\n",
       "</table>\n",
       "</div>"
      ],
      "text/plain": [
       "   ID  shop_id  item_id\n",
       "0   0        5     5037\n",
       "1   1        5     5320\n",
       "2   2        5     5233\n",
       "3   3        5     5232\n",
       "4   4        5     5268"
      ]
     },
     "metadata": {},
     "output_type": "display_data"
    }
   ],
   "source": [
    "for df in [items, shops, cats, train, test]:\n",
    "    display.display(df.head())"
   ]
  },
  {
   "cell_type": "markdown",
   "metadata": {},
   "source": [
    "Without understanding russian it looks like we have a metacategory for items, and with a research I found that the first word in shops name is the town."
   ]
  },
  {
   "cell_type": "code",
   "execution_count": 62,
   "metadata": {},
   "outputs": [],
   "source": [
    "cats['metacategory'] = cats.item_category_name.apply(lambda x: x.split('-')[0])\n",
    "cats['subcategory'] = cats.item_category_name.apply(lambda x: x.split('-')).map(lambda x:x[1].strip() if len(x)>1 else x[0].strip())"
   ]
  },
  {
   "cell_type": "code",
   "execution_count": 63,
   "metadata": {},
   "outputs": [
    {
     "data": {
      "text/html": [
       "<div>\n",
       "<style scoped>\n",
       "    .dataframe tbody tr th:only-of-type {\n",
       "        vertical-align: middle;\n",
       "    }\n",
       "\n",
       "    .dataframe tbody tr th {\n",
       "        vertical-align: top;\n",
       "    }\n",
       "\n",
       "    .dataframe thead th {\n",
       "        text-align: right;\n",
       "    }\n",
       "</style>\n",
       "<table border=\"1\" class=\"dataframe\">\n",
       "  <thead>\n",
       "    <tr style=\"text-align: right;\">\n",
       "      <th></th>\n",
       "      <th>item_category_id</th>\n",
       "      <th>metacategory</th>\n",
       "      <th>subcategory</th>\n",
       "    </tr>\n",
       "  </thead>\n",
       "  <tbody>\n",
       "    <tr>\n",
       "      <th>0</th>\n",
       "      <td>0</td>\n",
       "      <td>0</td>\n",
       "      <td>29</td>\n",
       "    </tr>\n",
       "    <tr>\n",
       "      <th>1</th>\n",
       "      <td>1</td>\n",
       "      <td>1</td>\n",
       "      <td>9</td>\n",
       "    </tr>\n",
       "    <tr>\n",
       "      <th>2</th>\n",
       "      <td>2</td>\n",
       "      <td>1</td>\n",
       "      <td>10</td>\n",
       "    </tr>\n",
       "    <tr>\n",
       "      <th>3</th>\n",
       "      <td>3</td>\n",
       "      <td>1</td>\n",
       "      <td>11</td>\n",
       "    </tr>\n",
       "    <tr>\n",
       "      <th>4</th>\n",
       "      <td>4</td>\n",
       "      <td>1</td>\n",
       "      <td>13</td>\n",
       "    </tr>\n",
       "  </tbody>\n",
       "</table>\n",
       "</div>"
      ],
      "text/plain": [
       "   item_category_id  metacategory  subcategory\n",
       "0                 0             0           29\n",
       "1                 1             1            9\n",
       "2                 2             1           10\n",
       "3                 3             1           11\n",
       "4                 4             1           13"
      ]
     },
     "execution_count": 63,
     "metadata": {},
     "output_type": "execute_result"
    }
   ],
   "source": [
    "labelencoder = LabelEncoder()\n",
    "cats[\"metacategory\"] = labelencoder.fit_transform(cats[\"metacategory\"])\n",
    "cats[\"subcategory\"] = labelencoder.fit_transform(cats[\"subcategory\"])\n",
    "cats.drop([\"item_category_name\"], axis=1, inplace=True)\n",
    "cats.head()"
   ]
  },
  {
   "cell_type": "code",
   "execution_count": 64,
   "metadata": {},
   "outputs": [],
   "source": [
    "shops[\"city\"] = shops.shop_name.apply(lambda x: x.replace('!','').split()[0])"
   ]
  },
  {
   "cell_type": "code",
   "execution_count": 65,
   "metadata": {},
   "outputs": [
    {
     "name": "stdout",
     "output_type": "stream",
     "text": [
      "Адыгея \n",
      " 2    Адыгея ТЦ \"Мега\"\n",
      "Name: shop_name, dtype: object \n",
      "\n",
      "Балашиха \n",
      " 3    Балашиха ТРК \"Октябрь-Киномир\"\n",
      "Name: shop_name, dtype: object \n",
      "\n",
      "Волжский \n",
      " 4    Волжский ТЦ \"Волга Молл\"\n",
      "Name: shop_name, dtype: object \n",
      "\n",
      "Вологда \n",
      " 5    Вологда ТРЦ \"Мармелад\"\n",
      "Name: shop_name, dtype: object \n",
      "\n",
      "Воронеж \n",
      " 6      Воронеж (Плехановская, 13)\n",
      "7          Воронеж ТРЦ \"Максимир\"\n",
      "8    Воронеж ТРЦ Сити-Парк \"Град\"\n",
      "Name: shop_name, dtype: object \n",
      "\n",
      "Выездная \n",
      " 9    Выездная Торговля\n",
      "Name: shop_name, dtype: object \n",
      "\n",
      "Жуковский \n",
      " 10    Жуковский ул. Чкалова 39м?\n",
      "11    Жуковский ул. Чкалова 39м²\n",
      "Name: shop_name, dtype: object \n",
      "\n",
      "Интернет-магазин \n",
      " 12    Интернет-магазин ЧС\n",
      "Name: shop_name, dtype: object \n",
      "\n",
      "Казань \n",
      " 13        Казань ТЦ \"Бехетле\"\n",
      "14    Казань ТЦ \"ПаркХаус\" II\n",
      "Name: shop_name, dtype: object \n",
      "\n",
      "Калуга \n",
      " 15    Калуга ТРЦ \"XXI век\"\n",
      "Name: shop_name, dtype: object \n",
      "\n",
      "Коломна \n",
      " 16    Коломна ТЦ \"Рио\"\n",
      "Name: shop_name, dtype: object \n",
      "\n",
      "Красноярск \n",
      " 17    Красноярск ТЦ \"Взлетка Плаза\"\n",
      "18             Красноярск ТЦ \"Июнь\"\n",
      "Name: shop_name, dtype: object \n",
      "\n",
      "Курск \n",
      " 19    Курск ТЦ \"Пушкинский\"\n",
      "Name: shop_name, dtype: object \n",
      "\n",
      "Москва \n",
      " 20                   Москва \"Распродажа\"\n",
      "21                Москва МТРЦ \"Афи Молл\"\n",
      "22                    Москва Магазин С21\n",
      "23      Москва ТК \"Буденовский\" (пав.А2)\n",
      "24      Москва ТК \"Буденовский\" (пав.К7)\n",
      "25                   Москва ТРК \"Атриум\"\n",
      "26           Москва ТЦ \"Ареал\" (Беляево)\n",
      "27        Москва ТЦ \"МЕГА Белая Дача II\"\n",
      "28       Москва ТЦ \"МЕГА Теплый Стан\" II\n",
      "29    Москва ТЦ \"Новый век\" (Новокосино)\n",
      "30                Москва ТЦ \"Перловский\"\n",
      "31               Москва ТЦ \"Семеновский\"\n",
      "32            Москва ТЦ \"Серебряный Дом\"\n",
      "Name: shop_name, dtype: object \n",
      "\n",
      "Мытищи \n",
      " 33    Мытищи ТРК \"XL-3\"\n",
      "Name: shop_name, dtype: object \n",
      "\n",
      "Н.Новгород \n",
      " 34           Н.Новгород ТРЦ \"РИО\"\n",
      "35    Н.Новгород ТРЦ \"Фантастика\"\n",
      "Name: shop_name, dtype: object \n",
      "\n",
      "Новосибирск \n",
      " 36    Новосибирск ТРЦ \"Галерея Новосибирск\"\n",
      "37                    Новосибирск ТЦ \"Мега\"\n",
      "Name: shop_name, dtype: object \n",
      "\n",
      "Омск \n",
      " 38    Омск ТЦ \"Мега\"\n",
      "Name: shop_name, dtype: object \n",
      "\n",
      "РостовНаДону \n",
      " 39              РостовНаДону ТРК \"Мегацентр Горизонт\"\n",
      "40    РостовНаДону ТРК \"Мегацентр Горизонт\" Островной\n",
      "41                             РостовНаДону ТЦ \"Мега\"\n",
      "Name: shop_name, dtype: object \n",
      "\n",
      "СПб \n",
      " 42    СПб ТК \"Невский Центр\"\n",
      "43           СПб ТК \"Сенная\"\n",
      "Name: shop_name, dtype: object \n",
      "\n",
      "Самара \n",
      " 44     Самара ТЦ \"Мелодия\"\n",
      "45    Самара ТЦ \"ПаркХаус\"\n",
      "Name: shop_name, dtype: object \n",
      "\n",
      "Сергиев \n",
      " 46    Сергиев Посад ТЦ \"7Я\"\n",
      "Name: shop_name, dtype: object \n",
      "\n",
      "Сургут \n",
      " 47    Сургут ТРЦ \"Сити Молл\"\n",
      "Name: shop_name, dtype: object \n",
      "\n",
      "Томск \n",
      " 48    Томск ТРЦ \"Изумрудный Город\"\n",
      "Name: shop_name, dtype: object \n",
      "\n",
      "Тюмень \n",
      " 49        Тюмень ТРЦ \"Кристалл\"\n",
      "50           Тюмень ТЦ \"Гудвин\"\n",
      "51    Тюмень ТЦ \"Зеленый Берег\"\n",
      "Name: shop_name, dtype: object \n",
      "\n",
      "Уфа \n",
      " 52    Уфа ТК \"Центральный\"\n",
      "53        Уфа ТЦ \"Семья\" 2\n",
      "Name: shop_name, dtype: object \n",
      "\n",
      "Химки \n",
      " 54    Химки ТЦ \"Мега\"\n",
      "Name: shop_name, dtype: object \n",
      "\n",
      "Цифровой \n",
      " 55    Цифровой склад 1С-Онлайн\n",
      "Name: shop_name, dtype: object \n",
      "\n",
      "Чехов \n",
      " 56    Чехов ТРЦ \"Карнавал\"\n",
      "Name: shop_name, dtype: object \n",
      "\n",
      "Якутск \n",
      " 0     !Якутск Орджоникидзе, 56 фран\n",
      "1     !Якутск ТЦ \"Центральный\" фран\n",
      "57          Якутск Орджоникидзе, 56\n",
      "58          Якутск ТЦ \"Центральный\"\n",
      "Name: shop_name, dtype: object \n",
      "\n",
      "Ярославль \n",
      " 59    Ярославль ТЦ \"Альтаир\"\n",
      "Name: shop_name, dtype: object \n",
      "\n"
     ]
    }
   ],
   "source": [
    "shop_groups = shops.shop_name.groupby(shops['city'])\n",
    "\n",
    "for i,gr in shop_groups : print(i,\"\\n\" ,gr ,\"\\n\")"
   ]
  },
  {
   "cell_type": "code",
   "execution_count": 66,
   "metadata": {
    "scrolled": false
   },
   "outputs": [
    {
     "data": {
      "text/html": [
       "<div>\n",
       "<style scoped>\n",
       "    .dataframe tbody tr th:only-of-type {\n",
       "        vertical-align: middle;\n",
       "    }\n",
       "\n",
       "    .dataframe tbody tr th {\n",
       "        vertical-align: top;\n",
       "    }\n",
       "\n",
       "    .dataframe thead th {\n",
       "        text-align: right;\n",
       "    }\n",
       "</style>\n",
       "<table border=\"1\" class=\"dataframe\">\n",
       "  <thead>\n",
       "    <tr style=\"text-align: right;\">\n",
       "      <th></th>\n",
       "      <th>shop_id</th>\n",
       "      <th>city</th>\n",
       "    </tr>\n",
       "  </thead>\n",
       "  <tbody>\n",
       "    <tr>\n",
       "      <th>0</th>\n",
       "      <td>0</td>\n",
       "      <td>29</td>\n",
       "    </tr>\n",
       "    <tr>\n",
       "      <th>1</th>\n",
       "      <td>1</td>\n",
       "      <td>29</td>\n",
       "    </tr>\n",
       "    <tr>\n",
       "      <th>2</th>\n",
       "      <td>2</td>\n",
       "      <td>0</td>\n",
       "    </tr>\n",
       "    <tr>\n",
       "      <th>3</th>\n",
       "      <td>3</td>\n",
       "      <td>1</td>\n",
       "    </tr>\n",
       "    <tr>\n",
       "      <th>4</th>\n",
       "      <td>4</td>\n",
       "      <td>2</td>\n",
       "    </tr>\n",
       "  </tbody>\n",
       "</table>\n",
       "</div>"
      ],
      "text/plain": [
       "   shop_id  city\n",
       "0        0    29\n",
       "1        1    29\n",
       "2        2     0\n",
       "3        3     1\n",
       "4        4     2"
      ]
     },
     "execution_count": 66,
     "metadata": {},
     "output_type": "execute_result"
    }
   ],
   "source": [
    "shops[\"city\"] = labelencoder.fit_transform(shops[\"city\"])\n",
    "shops.drop(['shop_name'], axis=1, inplace=True)\n",
    "shops.head()"
   ]
  },
  {
   "cell_type": "code",
   "execution_count": 67,
   "metadata": {},
   "outputs": [],
   "source": [
    "# Fix ids\n",
    "train.loc[train.shop_id == 0, 'shop_id'] = 57\n",
    "test.loc[test.shop_id == 0, 'shop_id'] = 57\n",
    "\n",
    "train.loc[train.shop_id == 1, 'shop_id'] = 58\n",
    "test.loc[test.shop_id == 1, 'shop_id'] = 58\n",
    "\n",
    "train.loc[train.shop_id == 10, 'shop_id'] = 11\n",
    "test.loc[test.shop_id == 10, 'shop_id'] = 11"
   ]
  },
  {
   "cell_type": "markdown",
   "metadata": {},
   "source": [
    "I'll filter our data to only the ones in the test set, a data leakage per se, that was pointed out in the kernels."
   ]
  },
  {
   "cell_type": "code",
   "execution_count": 68,
   "metadata": {},
   "outputs": [],
   "source": [
    "shop_lk = test.shop_id.unique()\n",
    "item_lk = test.item_id.unique()\n",
    "\n",
    "train = train[train.shop_id.isin(shop_lk)]\n",
    "train = train[train.item_id.isin(item_lk)]"
   ]
  },
  {
   "cell_type": "markdown",
   "metadata": {},
   "source": [
    "We begun our analysis by numerical variables, first lets look at item count and item price in train dataframe."
   ]
  },
  {
   "cell_type": "markdown",
   "metadata": {},
   "source": [
    "We can see some outliers for price and count per day, lets remove them."
   ]
  },
  {
   "cell_type": "code",
   "execution_count": 69,
   "metadata": {},
   "outputs": [],
   "source": [
    "train = train[train.item_price < 50000]\n",
    "train = train[train.item_cnt_day < 900]"
   ]
  },
  {
   "cell_type": "code",
   "execution_count": 70,
   "metadata": {
    "scrolled": true
   },
   "outputs": [
    {
     "data": {
      "image/png": "[encoded data removed]",
      "text/plain": [
       "<Figure size 720x360 with 2 Axes>"
      ]
     },
     "metadata": {
      "needs_background": "light"
     },
     "output_type": "display_data"
    }
   ],
   "source": [
    "fig, axes = plt.subplots(nrows=2, ncols=1, figsize=(10,5))\n",
    "for i, x in enumerate(['item_price', 'item_cnt_day']):\n",
    "        sns.boxplot(train[x], ax=axes[i])"
   ]
  },
  {
   "cell_type": "code",
   "execution_count": 71,
   "metadata": {},
   "outputs": [],
   "source": [
    "cols = ['date_block_num','shop_id','item_id']\n",
    "\n",
    "# For every month we create a grid from all shops/items combinations from that month\n",
    "df = [] \n",
    "for block_num in train['date_block_num'].unique():\n",
    "    cur_shops = train.loc[train['date_block_num'] == block_num, 'shop_id'].unique()\n",
    "    cur_items = train.loc[train['date_block_num'] == block_num, 'item_id'].unique()\n",
    "    df.append(np.array(list(product(*[[block_num] ,cur_shops, cur_items])),dtype='int32'))\n",
    "\n",
    "# Turn the grid into a dataframe\n",
    "df = pd.DataFrame(np.vstack(df), columns = cols,dtype=np.int32)"
   ]
  },
  {
   "cell_type": "code",
   "execution_count": 72,
   "metadata": {},
   "outputs": [
    {
     "data": {
      "text/html": [
       "<div>\n",
       "<style scoped>\n",
       "    .dataframe tbody tr th:only-of-type {\n",
       "        vertical-align: middle;\n",
       "    }\n",
       "\n",
       "    .dataframe tbody tr th {\n",
       "        vertical-align: top;\n",
       "    }\n",
       "\n",
       "    .dataframe thead th {\n",
       "        text-align: right;\n",
       "    }\n",
       "</style>\n",
       "<table border=\"1\" class=\"dataframe\">\n",
       "  <thead>\n",
       "    <tr style=\"text-align: right;\">\n",
       "      <th></th>\n",
       "      <th>date_block_num</th>\n",
       "      <th>shop_id</th>\n",
       "      <th>item_id</th>\n",
       "    </tr>\n",
       "  </thead>\n",
       "  <tbody>\n",
       "    <tr>\n",
       "      <th>0</th>\n",
       "      <td>0</td>\n",
       "      <td>59</td>\n",
       "      <td>22154</td>\n",
       "    </tr>\n",
       "    <tr>\n",
       "      <th>1</th>\n",
       "      <td>0</td>\n",
       "      <td>59</td>\n",
       "      <td>2574</td>\n",
       "    </tr>\n",
       "    <tr>\n",
       "      <th>2</th>\n",
       "      <td>0</td>\n",
       "      <td>59</td>\n",
       "      <td>2607</td>\n",
       "    </tr>\n",
       "    <tr>\n",
       "      <th>3</th>\n",
       "      <td>0</td>\n",
       "      <td>59</td>\n",
       "      <td>2614</td>\n",
       "    </tr>\n",
       "    <tr>\n",
       "      <th>4</th>\n",
       "      <td>0</td>\n",
       "      <td>59</td>\n",
       "      <td>2808</td>\n",
       "    </tr>\n",
       "  </tbody>\n",
       "</table>\n",
       "</div>"
      ],
      "text/plain": [
       "   date_block_num  shop_id  item_id\n",
       "0               0       59    22154\n",
       "1               0       59     2574\n",
       "2               0       59     2607\n",
       "3               0       59     2614\n",
       "4               0       59     2808"
      ]
     },
     "execution_count": 72,
     "metadata": {},
     "output_type": "execute_result"
    }
   ],
   "source": [
    "df.head()"
   ]
  },
  {
   "cell_type": "code",
   "execution_count": 73,
   "metadata": {},
   "outputs": [],
   "source": [
    "df.sort_values(cols,inplace=True)"
   ]
  },
  {
   "cell_type": "code",
   "execution_count": 74,
   "metadata": {},
   "outputs": [
    {
     "name": "stderr",
     "output_type": "stream",
     "text": [
      "/home/jader/.local/lib/python3.7/site-packages/pandas/core/groupby/groupby.py:4656: FutureWarning: using a dict with renaming is deprecated and will be removed in a future version\n",
      "  return super(DataFrameGroupBy, self).aggregate(arg, *args, **kwargs)\n"
     ]
    }
   ],
   "source": [
    "dftemp = train.groupby(cols,as_index=False).agg({'item_cnt_day':{'target':'sum'}})"
   ]
  },
  {
   "cell_type": "code",
   "execution_count": 75,
   "metadata": {},
   "outputs": [],
   "source": [
    "dftemp.columns = [col[0] if col[-1]=='' else col[-1] for col in dftemp.columns.values]"
   ]
  },
  {
   "cell_type": "code",
   "execution_count": 76,
   "metadata": {},
   "outputs": [],
   "source": [
    "df_all = pd.merge(df, dftemp, how='left', on=cols)\n",
    "df_all['target'] = df_all['target'].fillna(0).clip(0,20).astype('float16')"
   ]
  },
  {
   "cell_type": "code",
   "execution_count": 77,
   "metadata": {},
   "outputs": [
    {
     "data": {
      "text/plain": [
       "130"
      ]
     },
     "execution_count": 77,
     "metadata": {},
     "output_type": "execute_result"
    }
   ],
   "source": [
    "del df, dftemp\n",
    "gc.collect()"
   ]
  },
  {
   "cell_type": "code",
   "execution_count": 78,
   "metadata": {},
   "outputs": [
    {
     "name": "stdout",
     "output_type": "stream",
     "text": [
      "<class 'pandas.core.frame.DataFrame'>\n",
      "Int64Index: 2738805 entries, 0 to 2738804\n",
      "Data columns (total 4 columns):\n",
      "date_block_num    int32\n",
      "shop_id           int32\n",
      "item_id           int32\n",
      "target            float16\n",
      "dtypes: float16(1), int32(3)\n",
      "memory usage: 57.5 MB\n"
     ]
    }
   ],
   "source": [
    "df_all.info()"
   ]
  },
  {
   "cell_type": "code",
   "execution_count": 79,
   "metadata": {},
   "outputs": [],
   "source": [
    "df_all['shop_id'] = df_all['shop_id'].astype(np.int8)\n",
    "df_all['item_id'] = df_all['item_id'].astype(np.int16)\n",
    "df_all['date_block_num'] = df_all['date_block_num'].astype(np.int8)"
   ]
  },
  {
   "cell_type": "code",
   "execution_count": 80,
   "metadata": {},
   "outputs": [],
   "source": [
    "dates = df_all['date_block_num']\n",
    "\n",
    "last_block = dates.max()"
   ]
  },
  {
   "cell_type": "code",
   "execution_count": 81,
   "metadata": {},
   "outputs": [],
   "source": [
    "test['date_block_num'] = last_block + 1\n",
    "test['shop_id'] = test['shop_id'].astype(np.int8)\n",
    "test['item_id'] = test['item_id'].astype(np.int16)\n",
    "test['date_block_num'] = test['date_block_num'].astype(np.int8)"
   ]
  },
  {
   "cell_type": "code",
   "execution_count": 82,
   "metadata": {},
   "outputs": [],
   "source": [
    "df_all = pd.concat([df_all, test], ignore_index=True, sort=False, keys=cols)\n",
    "df_all.fillna(0, inplace=True)"
   ]
  },
  {
   "cell_type": "code",
   "execution_count": 83,
   "metadata": {},
   "outputs": [],
   "source": [
    "df_all = pd.merge(df_all, shops, on=['shop_id'], how='left')\n",
    "df_all = pd.merge(df_all, items, on=['item_id'], how='left')\n",
    "df_all = pd.merge(df_all, cats, on=['item_category_id'], how='left')"
   ]
  },
  {
   "cell_type": "code",
   "execution_count": 84,
   "metadata": {},
   "outputs": [
    {
     "name": "stdout",
     "output_type": "stream",
     "text": [
      "<class 'pandas.core.frame.DataFrame'>\n",
      "Int64Index: 2953005 entries, 0 to 2953004\n",
      "Data columns (total 10 columns):\n",
      "date_block_num      int8\n",
      "shop_id             int8\n",
      "item_id             int16\n",
      "target              float16\n",
      "ID                  float64\n",
      "city                int64\n",
      "item_name           object\n",
      "item_category_id    int32\n",
      "metacategory        int64\n",
      "subcategory         int64\n",
      "dtypes: float16(1), float64(1), int16(1), int32(1), int64(3), int8(2), object(1)\n",
      "memory usage: 163.3+ MB\n",
      "None\n"
     ]
    },
    {
     "data": {
      "text/html": [
       "<div>\n",
       "<style scoped>\n",
       "    .dataframe tbody tr th:only-of-type {\n",
       "        vertical-align: middle;\n",
       "    }\n",
       "\n",
       "    .dataframe tbody tr th {\n",
       "        vertical-align: top;\n",
       "    }\n",
       "\n",
       "    .dataframe thead th {\n",
       "        text-align: right;\n",
       "    }\n",
       "</style>\n",
       "<table border=\"1\" class=\"dataframe\">\n",
       "  <thead>\n",
       "    <tr style=\"text-align: right;\">\n",
       "      <th></th>\n",
       "      <th>date_block_num</th>\n",
       "      <th>shop_id</th>\n",
       "      <th>item_id</th>\n",
       "      <th>target</th>\n",
       "      <th>ID</th>\n",
       "      <th>city</th>\n",
       "      <th>item_name</th>\n",
       "      <th>item_category_id</th>\n",
       "      <th>metacategory</th>\n",
       "      <th>subcategory</th>\n",
       "    </tr>\n",
       "  </thead>\n",
       "  <tbody>\n",
       "    <tr>\n",
       "      <th>0</th>\n",
       "      <td>0</td>\n",
       "      <td>2</td>\n",
       "      <td>32</td>\n",
       "      <td>0.00</td>\n",
       "      <td>0.00</td>\n",
       "      <td>0</td>\n",
       "      <td>1+1</td>\n",
       "      <td>40</td>\n",
       "      <td>11</td>\n",
       "      <td>4</td>\n",
       "    </tr>\n",
       "    <tr>\n",
       "      <th>1</th>\n",
       "      <td>0</td>\n",
       "      <td>2</td>\n",
       "      <td>33</td>\n",
       "      <td>1.00</td>\n",
       "      <td>0.00</td>\n",
       "      <td>0</td>\n",
       "      <td>1+1 (BD)</td>\n",
       "      <td>37</td>\n",
       "      <td>11</td>\n",
       "      <td>1</td>\n",
       "    </tr>\n",
       "    <tr>\n",
       "      <th>2</th>\n",
       "      <td>0</td>\n",
       "      <td>2</td>\n",
       "      <td>42</td>\n",
       "      <td>0.00</td>\n",
       "      <td>0.00</td>\n",
       "      <td>0</td>\n",
       "      <td>100 Best romantic melodies (mp3-CD) (Digipack)</td>\n",
       "      <td>57</td>\n",
       "      <td>13</td>\n",
       "      <td>8</td>\n",
       "    </tr>\n",
       "    <tr>\n",
       "      <th>3</th>\n",
       "      <td>0</td>\n",
       "      <td>2</td>\n",
       "      <td>45</td>\n",
       "      <td>0.00</td>\n",
       "      <td>0.00</td>\n",
       "      <td>0</td>\n",
       "      <td>100 лучших народных песен (mp3-CD) (CD-Digipack)</td>\n",
       "      <td>57</td>\n",
       "      <td>13</td>\n",
       "      <td>8</td>\n",
       "    </tr>\n",
       "    <tr>\n",
       "      <th>4</th>\n",
       "      <td>0</td>\n",
       "      <td>2</td>\n",
       "      <td>51</td>\n",
       "      <td>0.00</td>\n",
       "      <td>0.00</td>\n",
       "      <td>0</td>\n",
       "      <td>100 лучших произведений классики (mp3-CD) (Dig...</td>\n",
       "      <td>57</td>\n",
       "      <td>13</td>\n",
       "      <td>8</td>\n",
       "    </tr>\n",
       "  </tbody>\n",
       "</table>\n",
       "</div>"
      ],
      "text/plain": [
       "   date_block_num  shop_id  item_id  target   ID  city  \\\n",
       "0               0        2       32    0.00 0.00     0   \n",
       "1               0        2       33    1.00 0.00     0   \n",
       "2               0        2       42    0.00 0.00     0   \n",
       "3               0        2       45    0.00 0.00     0   \n",
       "4               0        2       51    0.00 0.00     0   \n",
       "\n",
       "                                           item_name  item_category_id  \\\n",
       "0                                                1+1                40   \n",
       "1                                           1+1 (BD)                37   \n",
       "2     100 Best romantic melodies (mp3-CD) (Digipack)                57   \n",
       "3   100 лучших народных песен (mp3-CD) (CD-Digipack)                57   \n",
       "4  100 лучших произведений классики (mp3-CD) (Dig...                57   \n",
       "\n",
       "   metacategory  subcategory  \n",
       "0            11            4  \n",
       "1            11            1  \n",
       "2            13            8  \n",
       "3            13            8  \n",
       "4            13            8  "
      ]
     },
     "execution_count": 84,
     "metadata": {},
     "output_type": "execute_result"
    }
   ],
   "source": [
    "print(df_all.info())\n",
    "df_all.head()"
   ]
  },
  {
   "cell_type": "code",
   "execution_count": 85,
   "metadata": {},
   "outputs": [],
   "source": [
    "df_all['city'] = df_all['city'].astype(np.int8)\n",
    "df_all['item_category_id'] = df_all['item_category_id'].astype(np.int8)\n",
    "df_all['metacategory'] = df_all['metacategory'].astype(np.int8)\n",
    "df_all['subcategory'] = df_all['subcategory'].astype(np.int8)"
   ]
  },
  {
   "cell_type": "code",
   "execution_count": 86,
   "metadata": {},
   "outputs": [],
   "source": [
    "df_all.drop(['item_name'] ,axis= 1 , inplace = True)"
   ]
  },
  {
   "cell_type": "markdown",
   "metadata": {},
   "source": [
    "# Mean encoding and lag features"
   ]
  },
  {
   "cell_type": "code",
   "execution_count": 87,
   "metadata": {},
   "outputs": [],
   "source": [
    "def lag_feature(df, lags, col):\n",
    "    tmp = df[['date_block_num','shop_id','item_id',col]]\n",
    "    for i in lags:\n",
    "        shifted = tmp.copy()\n",
    "        shifted.columns = ['date_block_num','shop_id','item_id', col+'_lag_'+str(i)]\n",
    "        shifted['date_block_num'] += i\n",
    "        df = pd.merge(df, shifted, on=['date_block_num','shop_id','item_id'], how='left')\n",
    "    return df"
   ]
  },
  {
   "cell_type": "code",
   "execution_count": 88,
   "metadata": {},
   "outputs": [],
   "source": [
    "def expanding_mean_encoding(all_data, cols, name, lags):\n",
    "    tmp = all_data.copy()\n",
    "    cumsum = tmp.groupby(cols)['target'].cumsum() - tmp['target']\n",
    "    cumcnt = tmp.groupby(cols).cumcount()\n",
    "    tmp[name] = cumsum/cumcnt\n",
    "    \n",
    "    tmp[name] = tmp.groupby(cols)[name].transform(lambda x: x.fillna(x.mean()))\n",
    "    tmp[name] = tmp[name].astype(np.float32)\n",
    "    tmp = lag_feature(tmp, lags, name)\n",
    "    tmp.drop([name], axis=1, inplace=True)\n",
    "    return tmp"
   ]
  },
  {
   "cell_type": "code",
   "execution_count": 89,
   "metadata": {},
   "outputs": [],
   "source": [
    "def kfold_mean_encoding(all_data, cols, name, lags):\n",
    "    tmp = all_data.copy()\n",
    "    kf = KFold(5, shuffle=False)\n",
    "    tmp[name] = 0\n",
    "\n",
    "    for tr_ind, val_ind in kf.split(all_data):\n",
    "        X_tr, X_val = tmp.iloc[tr_ind], tmp.iloc[val_ind]\n",
    "        grp = X_tr.groupby(cols).target.mean()\n",
    "        grp2 = X_val.set_index(cols).index\n",
    "        tmp.loc[tmp.index[val_ind],name] = grp2.map(grp)\n",
    "\n",
    "    tmp[name] = tmp[name].astype(np.float16)\n",
    "    tmp = lag_feature(tmp, lags, name)\n",
    "    tmp.drop([name], axis=1, inplace=True)\n",
    "    return tmp"
   ]
  },
  {
   "cell_type": "code",
   "execution_count": 90,
   "metadata": {},
   "outputs": [],
   "source": [
    "# Make lag encoded features for item_cnt_month\n",
    "def mean_encoding_lag(matrix, cols, name, lags):\n",
    "    tmp = matrix.copy()\n",
    "    group = tmp.groupby(cols).agg({'target': ['mean']})\n",
    "    group.columns = [name]\n",
    "    group.reset_index(inplace=True)\n",
    "\n",
    "    tmp = pd.merge(tmp, group, on=cols, how='left')\n",
    "    tmp[name] = tmp[name].astype(np.float16)\n",
    "    tmp = lag_feature(tmp, lags, name)\n",
    "    tmp.drop([name], axis=1, inplace=True)\n",
    "    return tmp"
   ]
  },
  {
   "cell_type": "code",
   "execution_count": 91,
   "metadata": {},
   "outputs": [],
   "source": [
    "df_all['target'] = df_all['target'].astype(np.float16)"
   ]
  },
  {
   "cell_type": "code",
   "execution_count": 92,
   "metadata": {},
   "outputs": [],
   "source": [
    "df_all = lag_feature(df_all, [1,2,3,6,12], 'target')"
   ]
  },
  {
   "cell_type": "code",
   "execution_count": 93,
   "metadata": {},
   "outputs": [],
   "source": [
    "df_all = kfold_mean_encoding(df_all, ['date_block_num'], 'date_avg_item_cnt', [1])\n",
    "df_all = kfold_mean_encoding(df_all, ['date_block_num', 'item_id'], 'date_item_avg_item_cnt', [1,2,3,6,12])\n",
    "df_all = kfold_mean_encoding(df_all, ['date_block_num', 'shop_id'], 'date_shop_avg_item_cnt', [1,2,3,6,12])\n",
    "df_all = kfold_mean_encoding(df_all, ['date_block_num', 'item_category_id'], 'date_category_avg_item_cnt', [1])"
   ]
  },
  {
   "cell_type": "code",
   "execution_count": 94,
   "metadata": {},
   "outputs": [
    {
     "data": {
      "text/plain": [
       "63"
      ]
     },
     "execution_count": 94,
     "metadata": {},
     "output_type": "execute_result"
    }
   ],
   "source": [
    "df_all = kfold_mean_encoding(df_all, ['date_block_num', 'shop_id', 'item_category_id'], 'date_shop_category_avg_item_cnt', [1])\n",
    "df_all = kfold_mean_encoding(df_all, ['date_block_num', 'shop_id', 'metacategory'], 'date_shop_metacategory_avg_item_cnt', [1])\n",
    "df_all = kfold_mean_encoding(df_all, ['date_block_num', 'shop_id', 'subcategory'], 'date_shop_subcategory_avg_item_cnt', [1])\n",
    "df_all = kfold_mean_encoding(df_all, ['date_block_num', 'city'], 'date_town_avg_item_cnt', [1])\n",
    "gc.collect()"
   ]
  },
  {
   "cell_type": "code",
   "execution_count": 95,
   "metadata": {},
   "outputs": [
    {
     "data": {
      "text/html": [
       "<div>\n",
       "<style scoped>\n",
       "    .dataframe tbody tr th:only-of-type {\n",
       "        vertical-align: middle;\n",
       "    }\n",
       "\n",
       "    .dataframe tbody tr th {\n",
       "        vertical-align: top;\n",
       "    }\n",
       "\n",
       "    .dataframe thead th {\n",
       "        text-align: right;\n",
       "    }\n",
       "</style>\n",
       "<table border=\"1\" class=\"dataframe\">\n",
       "  <thead>\n",
       "    <tr style=\"text-align: right;\">\n",
       "      <th></th>\n",
       "      <th>date_block_num</th>\n",
       "      <th>shop_id</th>\n",
       "      <th>item_id</th>\n",
       "      <th>target</th>\n",
       "      <th>ID</th>\n",
       "      <th>city</th>\n",
       "      <th>item_category_id</th>\n",
       "      <th>metacategory</th>\n",
       "      <th>subcategory</th>\n",
       "      <th>target_lag_1</th>\n",
       "      <th>...</th>\n",
       "      <th>date_shop_avg_item_cnt_lag_6</th>\n",
       "      <th>date_shop_avg_item_cnt_lag_12</th>\n",
       "      <th>date_category_avg_item_cnt_lag_1</th>\n",
       "      <th>date_shop_category_avg_item_cnt_lag_1</th>\n",
       "      <th>date_shop_metacategory_avg_item_cnt_lag_1</th>\n",
       "      <th>date_shop_subcategory_avg_item_cnt_lag_1</th>\n",
       "      <th>date_town_avg_item_cnt_lag_1</th>\n",
       "      <th>date_item_town_avg_item_cnt_lag_1</th>\n",
       "      <th>date_metacategory_avg_item_cnt_lag_1</th>\n",
       "      <th>date_subcategory_avg_item_cnt_lag_1</th>\n",
       "    </tr>\n",
       "  </thead>\n",
       "  <tbody>\n",
       "    <tr>\n",
       "      <th>0</th>\n",
       "      <td>0</td>\n",
       "      <td>2</td>\n",
       "      <td>32</td>\n",
       "      <td>0.00</td>\n",
       "      <td>0.00</td>\n",
       "      <td>0</td>\n",
       "      <td>40</td>\n",
       "      <td>11</td>\n",
       "      <td>4</td>\n",
       "      <td>nan</td>\n",
       "      <td>...</td>\n",
       "      <td>nan</td>\n",
       "      <td>nan</td>\n",
       "      <td>nan</td>\n",
       "      <td>nan</td>\n",
       "      <td>nan</td>\n",
       "      <td>nan</td>\n",
       "      <td>nan</td>\n",
       "      <td>nan</td>\n",
       "      <td>nan</td>\n",
       "      <td>nan</td>\n",
       "    </tr>\n",
       "    <tr>\n",
       "      <th>1</th>\n",
       "      <td>0</td>\n",
       "      <td>2</td>\n",
       "      <td>33</td>\n",
       "      <td>1.00</td>\n",
       "      <td>0.00</td>\n",
       "      <td>0</td>\n",
       "      <td>37</td>\n",
       "      <td>11</td>\n",
       "      <td>1</td>\n",
       "      <td>nan</td>\n",
       "      <td>...</td>\n",
       "      <td>nan</td>\n",
       "      <td>nan</td>\n",
       "      <td>nan</td>\n",
       "      <td>nan</td>\n",
       "      <td>nan</td>\n",
       "      <td>nan</td>\n",
       "      <td>nan</td>\n",
       "      <td>nan</td>\n",
       "      <td>nan</td>\n",
       "      <td>nan</td>\n",
       "    </tr>\n",
       "    <tr>\n",
       "      <th>2</th>\n",
       "      <td>0</td>\n",
       "      <td>2</td>\n",
       "      <td>42</td>\n",
       "      <td>0.00</td>\n",
       "      <td>0.00</td>\n",
       "      <td>0</td>\n",
       "      <td>57</td>\n",
       "      <td>13</td>\n",
       "      <td>8</td>\n",
       "      <td>nan</td>\n",
       "      <td>...</td>\n",
       "      <td>nan</td>\n",
       "      <td>nan</td>\n",
       "      <td>nan</td>\n",
       "      <td>nan</td>\n",
       "      <td>nan</td>\n",
       "      <td>nan</td>\n",
       "      <td>nan</td>\n",
       "      <td>nan</td>\n",
       "      <td>nan</td>\n",
       "      <td>nan</td>\n",
       "    </tr>\n",
       "    <tr>\n",
       "      <th>3</th>\n",
       "      <td>0</td>\n",
       "      <td>2</td>\n",
       "      <td>45</td>\n",
       "      <td>0.00</td>\n",
       "      <td>0.00</td>\n",
       "      <td>0</td>\n",
       "      <td>57</td>\n",
       "      <td>13</td>\n",
       "      <td>8</td>\n",
       "      <td>nan</td>\n",
       "      <td>...</td>\n",
       "      <td>nan</td>\n",
       "      <td>nan</td>\n",
       "      <td>nan</td>\n",
       "      <td>nan</td>\n",
       "      <td>nan</td>\n",
       "      <td>nan</td>\n",
       "      <td>nan</td>\n",
       "      <td>nan</td>\n",
       "      <td>nan</td>\n",
       "      <td>nan</td>\n",
       "    </tr>\n",
       "    <tr>\n",
       "      <th>4</th>\n",
       "      <td>0</td>\n",
       "      <td>2</td>\n",
       "      <td>51</td>\n",
       "      <td>0.00</td>\n",
       "      <td>0.00</td>\n",
       "      <td>0</td>\n",
       "      <td>57</td>\n",
       "      <td>13</td>\n",
       "      <td>8</td>\n",
       "      <td>nan</td>\n",
       "      <td>...</td>\n",
       "      <td>nan</td>\n",
       "      <td>nan</td>\n",
       "      <td>nan</td>\n",
       "      <td>nan</td>\n",
       "      <td>nan</td>\n",
       "      <td>nan</td>\n",
       "      <td>nan</td>\n",
       "      <td>nan</td>\n",
       "      <td>nan</td>\n",
       "      <td>nan</td>\n",
       "    </tr>\n",
       "  </tbody>\n",
       "</table>\n",
       "<p>5 rows × 33 columns</p>\n",
       "</div>"
      ],
      "text/plain": [
       "   date_block_num  shop_id  item_id  target   ID  city  item_category_id  \\\n",
       "0               0        2       32    0.00 0.00     0                40   \n",
       "1               0        2       33    1.00 0.00     0                37   \n",
       "2               0        2       42    0.00 0.00     0                57   \n",
       "3               0        2       45    0.00 0.00     0                57   \n",
       "4               0        2       51    0.00 0.00     0                57   \n",
       "\n",
       "   metacategory  subcategory  target_lag_1  \\\n",
       "0            11            4           nan   \n",
       "1            11            1           nan   \n",
       "2            13            8           nan   \n",
       "3            13            8           nan   \n",
       "4            13            8           nan   \n",
       "\n",
       "                  ...                   date_shop_avg_item_cnt_lag_6  \\\n",
       "0                 ...                                            nan   \n",
       "1                 ...                                            nan   \n",
       "2                 ...                                            nan   \n",
       "3                 ...                                            nan   \n",
       "4                 ...                                            nan   \n",
       "\n",
       "   date_shop_avg_item_cnt_lag_12  date_category_avg_item_cnt_lag_1  \\\n",
       "0                            nan                               nan   \n",
       "1                            nan                               nan   \n",
       "2                            nan                               nan   \n",
       "3                            nan                               nan   \n",
       "4                            nan                               nan   \n",
       "\n",
       "   date_shop_category_avg_item_cnt_lag_1  \\\n",
       "0                                    nan   \n",
       "1                                    nan   \n",
       "2                                    nan   \n",
       "3                                    nan   \n",
       "4                                    nan   \n",
       "\n",
       "   date_shop_metacategory_avg_item_cnt_lag_1  \\\n",
       "0                                        nan   \n",
       "1                                        nan   \n",
       "2                                        nan   \n",
       "3                                        nan   \n",
       "4                                        nan   \n",
       "\n",
       "   date_shop_subcategory_avg_item_cnt_lag_1  date_town_avg_item_cnt_lag_1  \\\n",
       "0                                       nan                           nan   \n",
       "1                                       nan                           nan   \n",
       "2                                       nan                           nan   \n",
       "3                                       nan                           nan   \n",
       "4                                       nan                           nan   \n",
       "\n",
       "   date_item_town_avg_item_cnt_lag_1  date_metacategory_avg_item_cnt_lag_1  \\\n",
       "0                                nan                                   nan   \n",
       "1                                nan                                   nan   \n",
       "2                                nan                                   nan   \n",
       "3                                nan                                   nan   \n",
       "4                                nan                                   nan   \n",
       "\n",
       "   date_subcategory_avg_item_cnt_lag_1  \n",
       "0                                  nan  \n",
       "1                                  nan  \n",
       "2                                  nan  \n",
       "3                                  nan  \n",
       "4                                  nan  \n",
       "\n",
       "[5 rows x 33 columns]"
      ]
     },
     "execution_count": 95,
     "metadata": {},
     "output_type": "execute_result"
    }
   ],
   "source": [
    "df_all = kfold_mean_encoding(df_all, ['date_block_num', 'item_id', 'city'], 'date_item_town_avg_item_cnt', [1])\n",
    "df_all = kfold_mean_encoding(df_all, ['date_block_num', 'metacategory'], 'date_metacategory_avg_item_cnt', [1])\n",
    "df_all = kfold_mean_encoding(df_all, ['date_block_num', 'subcategory'], 'date_subcategory_avg_item_cnt', [1])\n",
    "gc.collect();\n",
    "df_all.head()"
   ]
  },
  {
   "cell_type": "code",
   "execution_count": 96,
   "metadata": {},
   "outputs": [],
   "source": [
    "df_all['month'] = df_all['date_block_num'] % 12"
   ]
  },
  {
   "cell_type": "code",
   "execution_count": 97,
   "metadata": {},
   "outputs": [],
   "source": [
    "days = pd.Series([31,28,31,30,31,30,31,31,30,31,30,31])\n",
    "df_all['days'] = df_all['month'].map(days).astype(np.int8)"
   ]
  },
  {
   "cell_type": "code",
   "execution_count": null,
   "metadata": {},
   "outputs": [],
   "source": []
  },
  {
   "cell_type": "code",
   "execution_count": 98,
   "metadata": {},
   "outputs": [],
   "source": [
    "df_all['item_shop_first_sale'] = df_all['date_block_num'] - df_all.groupby(['item_id','shop_id'])['date_block_num'].transform('min')\n",
    "df_all['item_first_sale'] = df_all['date_block_num'] - df_all.groupby('item_id')['date_block_num'].transform('min')"
   ]
  },
  {
   "cell_type": "code",
   "execution_count": 99,
   "metadata": {},
   "outputs": [],
   "source": [
    "df_all = df_all[df_all.date_block_num > 11]"
   ]
  },
  {
   "cell_type": "code",
   "execution_count": 100,
   "metadata": {},
   "outputs": [],
   "source": [
    "df_all.fillna(0,inplace = True)"
   ]
  },
  {
   "cell_type": "code",
   "execution_count": 101,
   "metadata": {},
   "outputs": [],
   "source": [
    "df_all.to_pickle('final.pkl')\n",
    "del df_all"
   ]
  },
  {
   "cell_type": "code",
   "execution_count": 102,
   "metadata": {},
   "outputs": [],
   "source": [
    "del items\n",
    "del shops\n",
    "del cats\n",
    "del train\n",
    "gc.collect();"
   ]
  },
  {
   "cell_type": "code",
   "execution_count": 103,
   "metadata": {},
   "outputs": [],
   "source": [
    "final = pd.read_pickle('final.pkl')"
   ]
  },
  {
   "cell_type": "code",
   "execution_count": 104,
   "metadata": {},
   "outputs": [],
   "source": [
    "X_train = final[final.date_block_num < 33].drop(['target'], axis=1)\n",
    "Y_train = final[final.date_block_num < 33]['target']\n",
    "\n",
    "X_valid = final[final.date_block_num == 33].drop(['target'], axis=1)\n",
    "Y_valid = final[final.date_block_num == 33]['target']\n",
    "\n",
    "X_test = final[final.date_block_num == 34].drop(['target'], axis=1)"
   ]
  },
  {
   "cell_type": "code",
   "execution_count": 105,
   "metadata": {},
   "outputs": [],
   "source": [
    "del final\n",
    "gc.collect();"
   ]
  },
  {
   "cell_type": "code",
   "execution_count": 106,
   "metadata": {},
   "outputs": [
    {
     "name": "stdout",
     "output_type": "stream",
     "text": [
      "[0]\tvalidation_0-rmse:1.52494\tvalidation_1-rmse:1.19568\n",
      "Multiple eval metrics have been passed: 'validation_1-rmse' will be used for early stopping.\n",
      "\n",
      "Will train until validation_1-rmse hasn't improved in 10 rounds.\n",
      "[1]\tvalidation_0-rmse:1.45586\tvalidation_1-rmse:1.14626\n",
      "[2]\tvalidation_0-rmse:1.39776\tvalidation_1-rmse:1.10533\n",
      "[3]\tvalidation_0-rmse:1.35703\tvalidation_1-rmse:1.07724\n",
      "[4]\tvalidation_0-rmse:1.31355\tvalidation_1-rmse:1.04844\n",
      "[5]\tvalidation_0-rmse:1.27655\tvalidation_1-rmse:1.02631\n",
      "[6]\tvalidation_0-rmse:1.24505\tvalidation_1-rmse:1.00706\n",
      "[7]\tvalidation_0-rmse:1.21833\tvalidation_1-rmse:0.991639\n",
      "[8]\tvalidation_0-rmse:1.19949\tvalidation_1-rmse:0.981647\n",
      "[9]\tvalidation_0-rmse:1.18006\tvalidation_1-rmse:0.972058\n",
      "[10]\tvalidation_0-rmse:1.16273\tvalidation_1-rmse:0.966869\n",
      "[11]\tvalidation_0-rmse:1.14949\tvalidation_1-rmse:0.96081\n",
      "[12]\tvalidation_0-rmse:1.13749\tvalidation_1-rmse:0.955531\n",
      "[13]\tvalidation_0-rmse:1.12779\tvalidation_1-rmse:0.952352\n",
      "[14]\tvalidation_0-rmse:1.11884\tvalidation_1-rmse:0.947484\n",
      "[15]\tvalidation_0-rmse:1.11113\tvalidation_1-rmse:0.94433\n",
      "[16]\tvalidation_0-rmse:1.10509\tvalidation_1-rmse:0.942185\n",
      "[17]\tvalidation_0-rmse:1.09994\tvalidation_1-rmse:0.94041\n",
      "[18]\tvalidation_0-rmse:1.09487\tvalidation_1-rmse:0.940115\n",
      "[19]\tvalidation_0-rmse:1.09043\tvalidation_1-rmse:0.938445\n",
      "[20]\tvalidation_0-rmse:1.08661\tvalidation_1-rmse:0.937051\n",
      "[21]\tvalidation_0-rmse:1.08285\tvalidation_1-rmse:0.935429\n",
      "[22]\tvalidation_0-rmse:1.07966\tvalidation_1-rmse:0.934456\n",
      "[23]\tvalidation_0-rmse:1.07698\tvalidation_1-rmse:0.933695\n",
      "[24]\tvalidation_0-rmse:1.07495\tvalidation_1-rmse:0.93358\n",
      "[25]\tvalidation_0-rmse:1.07212\tvalidation_1-rmse:0.932966\n",
      "[26]\tvalidation_0-rmse:1.06967\tvalidation_1-rmse:0.931715\n",
      "[27]\tvalidation_0-rmse:1.06754\tvalidation_1-rmse:0.930735\n",
      "[28]\tvalidation_0-rmse:1.06624\tvalidation_1-rmse:0.930794\n",
      "[29]\tvalidation_0-rmse:1.06391\tvalidation_1-rmse:0.932205\n",
      "[30]\tvalidation_0-rmse:1.06268\tvalidation_1-rmse:0.93199\n",
      "[31]\tvalidation_0-rmse:1.06107\tvalidation_1-rmse:0.932391\n",
      "[32]\tvalidation_0-rmse:1.06004\tvalidation_1-rmse:0.933601\n",
      "[33]\tvalidation_0-rmse:1.05927\tvalidation_1-rmse:0.933973\n",
      "[34]\tvalidation_0-rmse:1.05847\tvalidation_1-rmse:0.933859\n",
      "[35]\tvalidation_0-rmse:1.0572\tvalidation_1-rmse:0.935159\n",
      "[36]\tvalidation_0-rmse:1.05631\tvalidation_1-rmse:0.935388\n",
      "[37]\tvalidation_0-rmse:1.05562\tvalidation_1-rmse:0.935407\n",
      "Stopping. Best iteration:\n",
      "[27]\tvalidation_0-rmse:1.06754\tvalidation_1-rmse:0.930735\n",
      "\n"
     ]
    },
    {
     "data": {
      "text/plain": [
       "XGBRegressor(base_score=0.5, booster='gbtree', colsample_bylevel=1,\n",
       "       colsample_bytree=0.85, eta=0.3, gamma=0, learning_rate=0.1,\n",
       "       max_delta_step=0, max_depth=8, min_child_weight=300, missing=None,\n",
       "       n_estimators=1000, n_jobs=1, nthread=None, objective='reg:linear',\n",
       "       random_state=0, reg_alpha=0, reg_lambda=1, scale_pos_weight=1,\n",
       "       seed=42, silent=True, subsample=0.8)"
      ]
     },
     "execution_count": 106,
     "metadata": {},
     "output_type": "execute_result"
    }
   ],
   "source": [
    "model = XGBRegressor(\n",
    "    max_depth=8,\n",
    "    n_estimators=1000,\n",
    "    min_child_weight=300, \n",
    "    colsample_bytree=0.85, \n",
    "    subsample=0.8, \n",
    "    eta=0.3,    \n",
    "    seed=42)\n",
    "\n",
    "model.fit(\n",
    "    X_train, \n",
    "    Y_train, \n",
    "    eval_metric=\"rmse\", \n",
    "    eval_set=[(X_train, Y_train), (X_valid, Y_valid)], \n",
    "    verbose=True, \n",
    "    early_stopping_rounds = 10)"
   ]
  },
  {
   "cell_type": "code",
   "execution_count": 107,
   "metadata": {},
   "outputs": [
    {
     "name": "stdout",
     "output_type": "stream",
     "text": [
      "[1]\ttraining's rmse: 1.52731\ttraining's l2: 2.33268\tvalid_1's rmse: 1.19457\tvalid_1's l2: 1.42699\n",
      "Training until validation scores don't improve for 10 rounds.\n",
      "[2]\ttraining's rmse: 1.46371\ttraining's l2: 2.14245\tvalid_1's rmse: 1.15018\tvalid_1's l2: 1.32291\n",
      "[3]\ttraining's rmse: 1.40905\ttraining's l2: 1.98541\tvalid_1's rmse: 1.1125\tvalid_1's l2: 1.23766\n",
      "[4]\ttraining's rmse: 1.36232\ttraining's l2: 1.85592\tvalid_1's rmse: 1.08201\tvalid_1's l2: 1.17074\n",
      "[5]\ttraining's rmse: 1.32479\ttraining's l2: 1.75506\tvalid_1's rmse: 1.05871\tvalid_1's l2: 1.12086\n",
      "[6]\ttraining's rmse: 1.29122\ttraining's l2: 1.66725\tvalid_1's rmse: 1.03783\tvalid_1's l2: 1.07709\n",
      "[7]\ttraining's rmse: 1.26296\ttraining's l2: 1.59506\tvalid_1's rmse: 1.02098\tvalid_1's l2: 1.04241\n",
      "[8]\ttraining's rmse: 1.24428\ttraining's l2: 1.54823\tvalid_1's rmse: 1.00885\tvalid_1's l2: 1.01777\n",
      "[9]\ttraining's rmse: 1.2227\ttraining's l2: 1.49499\tvalid_1's rmse: 0.995296\tvalid_1's l2: 0.990613\n",
      "[10]\ttraining's rmse: 1.20638\ttraining's l2: 1.45534\tvalid_1's rmse: 0.985258\tvalid_1's l2: 0.970733\n",
      "[11]\ttraining's rmse: 1.19112\ttraining's l2: 1.41876\tvalid_1's rmse: 0.977414\tvalid_1's l2: 0.955338\n",
      "[12]\ttraining's rmse: 1.17752\ttraining's l2: 1.38654\tvalid_1's rmse: 0.970273\tvalid_1's l2: 0.94143\n",
      "[13]\ttraining's rmse: 1.16569\ttraining's l2: 1.35883\tvalid_1's rmse: 0.965647\tvalid_1's l2: 0.932473\n",
      "[14]\ttraining's rmse: 1.15587\ttraining's l2: 1.33603\tvalid_1's rmse: 0.960884\tvalid_1's l2: 0.923297\n",
      "[15]\ttraining's rmse: 1.14718\ttraining's l2: 1.31603\tvalid_1's rmse: 0.958834\tvalid_1's l2: 0.919362\n",
      "[16]\ttraining's rmse: 1.1399\ttraining's l2: 1.29938\tvalid_1's rmse: 0.957207\tvalid_1's l2: 0.916245\n",
      "[17]\ttraining's rmse: 1.13367\ttraining's l2: 1.28522\tvalid_1's rmse: 0.95452\tvalid_1's l2: 0.911109\n",
      "[18]\ttraining's rmse: 1.12781\ttraining's l2: 1.27195\tvalid_1's rmse: 0.953214\tvalid_1's l2: 0.908617\n",
      "[19]\ttraining's rmse: 1.12282\ttraining's l2: 1.26072\tvalid_1's rmse: 0.951448\tvalid_1's l2: 0.905253\n",
      "[20]\ttraining's rmse: 1.1186\ttraining's l2: 1.25126\tvalid_1's rmse: 0.950008\tvalid_1's l2: 0.902515\n",
      "[21]\ttraining's rmse: 1.11439\ttraining's l2: 1.24186\tvalid_1's rmse: 0.948197\tvalid_1's l2: 0.899078\n",
      "[22]\ttraining's rmse: 1.11037\ttraining's l2: 1.23293\tvalid_1's rmse: 0.947116\tvalid_1's l2: 0.897029\n",
      "[23]\ttraining's rmse: 1.10754\ttraining's l2: 1.22664\tvalid_1's rmse: 0.946275\tvalid_1's l2: 0.895436\n",
      "[24]\ttraining's rmse: 1.10508\ttraining's l2: 1.2212\tvalid_1's rmse: 0.94661\tvalid_1's l2: 0.896071\n",
      "[25]\ttraining's rmse: 1.10287\ttraining's l2: 1.21633\tvalid_1's rmse: 0.947007\tvalid_1's l2: 0.896821\n",
      "[26]\ttraining's rmse: 1.10102\ttraining's l2: 1.21224\tvalid_1's rmse: 0.946881\tvalid_1's l2: 0.896583\n",
      "[27]\ttraining's rmse: 1.099\ttraining's l2: 1.20781\tvalid_1's rmse: 0.947346\tvalid_1's l2: 0.897464\n",
      "[28]\ttraining's rmse: 1.09676\ttraining's l2: 1.20288\tvalid_1's rmse: 0.946381\tvalid_1's l2: 0.895637\n",
      "[29]\ttraining's rmse: 1.09431\ttraining's l2: 1.19751\tvalid_1's rmse: 0.947941\tvalid_1's l2: 0.898593\n",
      "[30]\ttraining's rmse: 1.09281\ttraining's l2: 1.19424\tvalid_1's rmse: 0.948359\tvalid_1's l2: 0.899384\n",
      "[31]\ttraining's rmse: 1.09091\ttraining's l2: 1.19009\tvalid_1's rmse: 0.9472\tvalid_1's l2: 0.897187\n",
      "[32]\ttraining's rmse: 1.08936\ttraining's l2: 1.1867\tvalid_1's rmse: 0.946454\tvalid_1's l2: 0.895776\n",
      "[33]\ttraining's rmse: 1.08824\ttraining's l2: 1.18426\tvalid_1's rmse: 0.947079\tvalid_1's l2: 0.896959\n",
      "Early stopping, best iteration is:\n",
      "[23]\ttraining's rmse: 1.10754\ttraining's l2: 1.22664\tvalid_1's rmse: 0.946275\tvalid_1's l2: 0.895436\n"
     ]
    },
    {
     "data": {
      "text/plain": [
       "LGBMRegressor(boosting_type='gbdt', class_weight=None, colsample_bytree=0.85,\n",
       "       eta=0.3, importance_type='split', learning_rate=0.1, max_depth=8,\n",
       "       min_child_samples=20, min_child_weight=300, min_split_gain=0.0,\n",
       "       n_estimators=1000, n_jobs=-1, num_leaves=31, objective=None,\n",
       "       random_state=None, reg_alpha=0.0, reg_lambda=0.0, seed=42,\n",
       "       silent=True, subsample=0.8, subsample_for_bin=200000,\n",
       "       subsample_freq=0)"
      ]
     },
     "execution_count": 107,
     "metadata": {},
     "output_type": "execute_result"
    }
   ],
   "source": [
    "lg = LGBMRegressor(\n",
    "    max_depth=8,\n",
    "    n_estimators=1000,\n",
    "    min_child_weight=300, \n",
    "    colsample_bytree=0.85, \n",
    "    subsample=0.8, \n",
    "    eta=0.3,    \n",
    "    seed=42)\n",
    "\n",
    "lg.fit(\n",
    "    X_train, \n",
    "    Y_train, \n",
    "    eval_metric=\"rmse\", \n",
    "    eval_set=[(X_train, Y_train), (X_valid, Y_valid)], \n",
    "    verbose=True, \n",
    "    early_stopping_rounds = 10)"
   ]
  },
  {
   "cell_type": "code",
   "execution_count": 108,
   "metadata": {},
   "outputs": [
    {
     "name": "stderr",
     "output_type": "stream",
     "text": [
      "/usr/lib/python3.7/site-packages/numpy/core/_methods.py:36: RuntimeWarning: overflow encountered in reduce\n",
      "  return umr_sum(a, axis, dtype, out, keepdims, initial)\n"
     ]
    },
    {
     "data": {
      "text/plain": [
       "Lasso(alpha=1.0, copy_X=True, fit_intercept=True, max_iter=1000,\n",
       "   normalize=False, positive=False, precompute=False, random_state=None,\n",
       "   selection='cyclic', tol=0.0001, warm_start=False)"
      ]
     },
     "execution_count": 108,
     "metadata": {},
     "output_type": "execute_result"
    }
   ],
   "source": [
    "clf = Lasso()\n",
    "clf.fit(X_train, Y_train)"
   ]
  },
  {
   "cell_type": "code",
   "execution_count": 109,
   "metadata": {},
   "outputs": [],
   "source": [
    "Y_pred = model.predict(X_valid).clip(0, 20)\n",
    "xgb_Y_test = model.predict(X_test).clip(0, 20)\n",
    "submission = pd.DataFrame({\"ID\": test.index,\"item_cnt_month\": xgb_Y_test})\n",
    "submission.to_csv('xgb_submission.csv', index=False)"
   ]
  },
  {
   "cell_type": "code",
   "execution_count": 110,
   "metadata": {},
   "outputs": [],
   "source": [
    "Y_pred = lg.predict(X_valid).clip(0, 20)\n",
    "lgbm_Y_test = lg.predict(X_test).clip(0, 20)\n",
    "submission = pd.DataFrame({\"ID\": test.index,\"item_cnt_month\": lgbm_Y_test})\n",
    "submission.to_csv('lgbm_submission.csv', index=False)"
   ]
  },
  {
   "cell_type": "code",
   "execution_count": 111,
   "metadata": {},
   "outputs": [],
   "source": [
    "Y_pred = clf.predict(X_valid).clip(0, 20)\n",
    "lasso_Y_test = clf.predict(X_test).clip(0, 20)\n",
    "submission = pd.DataFrame({\"ID\": test.index,\"item_cnt_month\": lasso_Y_test})\n",
    "submission.to_csv('lasso_submission.csv', index=False)"
   ]
  },
  {
   "cell_type": "markdown",
   "metadata": {},
   "source": [
    "# Ensemble"
   ]
  },
  {
   "cell_type": "code",
   "execution_count": 113,
   "metadata": {},
   "outputs": [],
   "source": [
    "#linearly combines predictions\n",
    "final_Y_test = xgb_Y_test*0.75 + lgbm_Y_test*0.2 + lasso_Y_test*0.05\n",
    "submission = pd.DataFrame({\"ID\": test.index,\"item_cnt_month\": final_Y_test})\n",
    "submission.to_csv('final_submission.csv', index=False)"
   ]
  }
 ],
 "metadata": {
  "kernelspec": {
   "display_name": "Python 3",
   "language": "python",
   "name": "python3"
  },
  "language_info": {
   "codemirror_mode": {
    "name": "ipython",
    "version": 3
   },
   "file_extension": ".py",
   "mimetype": "text/x-python",
   "name": "python",
   "nbconvert_exporter": "python",
   "pygments_lexer": "ipython3",
   "version": "3.7.2"
  }
 },
 "nbformat": 4,
 "nbformat_minor": 2
}
